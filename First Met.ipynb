{
 "cells": [
  {
   "cell_type": "code",
   "id": "initial_id",
   "metadata": {
    "collapsed": true,
    "ExecuteTime": {
     "end_time": "2025-07-10T18:54:23.286677Z",
     "start_time": "2025-07-10T18:54:23.279657Z"
    }
   },
   "source": [
    "import numpy as np\n",
    "import pandas as pd\n",
    "from scipy.stats import kurtosis, skew, multivariate_normal\n",
    "from scipy.signal import welch, find_peaks\n",
    "import matplotlib.pyplot as plt\n",
    "from scipy.ndimage import uniform_filter1d\n",
    "from scipy.fft import fftfreq, fft\n",
    "from scipy import stats\n",
    "%matplotlib tk"
   ],
   "outputs": [],
   "execution_count": 260
  },
  {
   "metadata": {
    "ExecuteTime": {
     "end_time": "2025-07-10T12:53:17.044538Z",
     "start_time": "2025-07-10T12:53:07.758897Z"
    }
   },
   "cell_type": "code",
   "source": [
    "V_SF = pd.read_csv('MotorVRB_2025.csv')\n",
    "V_2F = pd.read_csv('MotorV2F_2025.csv')"
   ],
   "id": "6e11dc257007cfbf",
   "outputs": [],
   "execution_count": 12
  },
  {
   "metadata": {},
   "cell_type": "markdown",
   "source": "<center><h1>Time-Domain Features</center></h1>",
   "id": "391ee5b5a8406a95"
  },
  {
   "metadata": {
    "ExecuteTime": {
     "end_time": "2025-07-10T12:53:17.097180Z",
     "start_time": "2025-07-10T12:53:17.091301Z"
    }
   },
   "cell_type": "code",
   "source": [
    "def calculate_rms(signal):\n",
    "    return np.sqrt(np.mean(signal**2))\n",
    "\n",
    "def extract_signal_stats(signal, window_size=1680):\n",
    "    start = 0\n",
    "    stats_list = []\n",
    "    epsilon = 1e-8  # Small value to avoid division by zero\n",
    "\n",
    "    while start < len(signal):\n",
    "        end = min(start + window_size, len(signal))\n",
    "        cycle = signal[start:end]\n",
    "\n",
    "        mean_val = np.mean(cycle)\n",
    "        rms_val = calculate_rms(cycle)\n",
    "        peak_val = np.max(np.abs(cycle))\n",
    "\n",
    "        stats_list.append({\n",
    "            'Kurtosis': kurtosis(cycle, fisher=True, bias=False),\n",
    "            'Skewness': skew(cycle, bias=False),\n",
    "            'Mean': mean_val,\n",
    "            'Peak': peak_val,\n",
    "            'Variance': np.var(cycle),\n",
    "            'StandardDeviation': np.std(cycle),\n",
    "            'RMS': rms_val,\n",
    "            'ShapeFactor': rms_val / (np.abs(mean_val) + epsilon),\n",
    "            'ImpulseFactor': peak_val / (np.abs(mean_val) + epsilon),\n",
    "        })\n",
    "\n",
    "        start += window_size  # Move to next window\n",
    "\n",
    "    df_stats = pd.DataFrame(stats_list)\n",
    "    return df_stats"
   ],
   "id": "563ea7197dcb3a1",
   "outputs": [],
   "execution_count": 13
  },
  {
   "metadata": {
    "ExecuteTime": {
     "end_time": "2025-07-10T17:59:45.222948Z",
     "start_time": "2025-07-10T17:59:30.762371Z"
    }
   },
   "cell_type": "code",
   "source": [
    "RMS_0 = extract_signal_stats(V_SF['Sinal-C0'])\n",
    "RMS_20 = extract_signal_stats(V_SF['Sinal-C20'])\n",
    "RMS_40 = extract_signal_stats(V_SF['Sinal-C40'])\n",
    "RMS_60 = extract_signal_stats(V_SF['Sinal-C60'])\n",
    "RMS_80 = extract_signal_stats(V_SF['Sinal-C80'])\n",
    "RMS_100 = extract_signal_stats(V_SF['Sinal-C100'])"
   ],
   "id": "c61df936ec40e083",
   "outputs": [],
   "execution_count": 132
  },
  {
   "metadata": {
    "ExecuteTime": {
     "end_time": "2025-07-10T19:05:02.509059Z",
     "start_time": "2025-07-10T19:04:47.919473Z"
    }
   },
   "cell_type": "code",
   "source": [
    "RMS_F0 = extract_signal_stats(V_2F['Sinal-C0'])\n",
    "RMS_F20 = extract_signal_stats(V_2F['Sinal-C20'])\n",
    "RMS_F40 = extract_signal_stats(V_2F['Sinal-C40'])\n",
    "RMS_F60 = extract_signal_stats(V_2F['Sinal-C60'])\n",
    "RMS_F80 = extract_signal_stats(V_2F['Sinal-C80'])\n",
    "RMS_F100 = extract_signal_stats(V_2F['Sinal-C100'])"
   ],
   "id": "cc6bfe8a0216a11f",
   "outputs": [],
   "execution_count": 292
  },
  {
   "metadata": {},
   "cell_type": "markdown",
   "source": "<center><h1>Frequency-Domain Features</center></h1>",
   "id": "de3dd67c63971c8f"
  },
  {
   "metadata": {
    "ExecuteTime": {
     "end_time": "2025-07-10T12:56:36.537845Z",
     "start_time": "2025-07-10T12:56:36.532222Z"
    }
   },
   "cell_type": "code",
   "source": [
    "def extract_frequency_features(signal, Fs=50000, window_size=1680):\n",
    "    \"\"\"\n",
    "    Extracts frequency-domain features from a signal.\n",
    "\n",
    "    Features:\n",
    "    - Spectral Centroid\n",
    "    - Spectral Bandwidth\n",
    "    Parameters:\n",
    "    - signal: 1D numpy array of the signal\n",
    "    - Fs: Sampling frequency in Hz\n",
    "    - window_size: Number of samples per analysis window\n",
    "\n",
    "    Returns:\n",
    "    - Pandas DataFrame with features for each window\n",
    "    \"\"\"\n",
    "    epsilon = 1e-8\n",
    "    start = 0\n",
    "    features = []\n",
    "\n",
    "    while start < len(signal):\n",
    "        end = min(start + window_size, len(signal))\n",
    "        segment = signal[start:end]\n",
    "        # Compute Power Spectral Density (PSD)\n",
    "        freqs, psd = welch(segment, fs=Fs, nperseg=min(256, len(segment)))\n",
    "        # Spectral Centroid\n",
    "        spectral_centroid = np.sum(freqs * psd) / (np.sum(psd) + epsilon)\n",
    "        # Spectral Bandwidth\n",
    "        spectral_bandwidth = np.sqrt(np.sum(((freqs - spectral_centroid)**2) * psd) / (np.sum(psd) + epsilon))\n",
    "\n",
    "        features.append({\n",
    "            'SpectralCentroid': spectral_centroid,\n",
    "            'SpectralBandwidth': spectral_bandwidth,\n",
    "        })\n",
    "\n",
    "        start += window_size  # Next window\n",
    "\n",
    "    return pd.DataFrame(features)"
   ],
   "id": "677bedba31c2d4ed",
   "outputs": [],
   "execution_count": 19
  },
  {
   "metadata": {
    "ExecuteTime": {
     "end_time": "2025-07-10T19:05:31.117686Z",
     "start_time": "2025-07-10T19:05:31.111888Z"
    }
   },
   "cell_type": "code",
   "source": [
    "RMS_SF = np.concatenate([RMS_0['RMS'], RMS_20['RMS'], RMS_40['RMS'],\n",
    "                         RMS_60['RMS'], RMS_80['RMS'], RMS_100['RMS']])"
   ],
   "id": "b7e7d867027a546e",
   "outputs": [],
   "execution_count": 293
  },
  {
   "metadata": {
    "ExecuteTime": {
     "end_time": "2025-07-10T19:05:31.494719Z",
     "start_time": "2025-07-10T19:05:31.490335Z"
    }
   },
   "cell_type": "code",
   "source": [
    "RMS_2F = np.concatenate([RMS_F0['RMS'], RMS_F20['RMS'], RMS_F40['RMS'],\n",
    "                         RMS_F60['RMS'], RMS_F80['RMS'], RMS_F100['RMS']])"
   ],
   "id": "9f07738bf964382b",
   "outputs": [],
   "execution_count": 294
  },
  {
   "metadata": {
    "ExecuteTime": {
     "end_time": "2025-07-10T19:06:46.118445Z",
     "start_time": "2025-07-10T19:06:46.011357Z"
    }
   },
   "cell_type": "code",
   "source": [
    "plt.figure()\n",
    "plt.plot(RMS_SF, linewidth=0.5, label='Healthy')\n",
    "plt.plot(RMS_2F, linewidth=0.5, label='Faulty')\n",
    "plt.legend(loc='best')\n",
    "plt.show()"
   ],
   "id": "e524df5c86814857",
   "outputs": [],
   "execution_count": 296
  },
  {
   "metadata": {
    "ExecuteTime": {
     "end_time": "2025-07-10T18:54:32.823577Z",
     "start_time": "2025-07-10T18:54:30.640707Z"
    }
   },
   "cell_type": "code",
   "source": "time_domain = extract_signal_stats(V_SF['Sinal-C100'])",
   "id": "2ccc8a60141e7fb7",
   "outputs": [],
   "execution_count": 262
  },
  {
   "metadata": {
    "ExecuteTime": {
     "end_time": "2025-07-10T19:03:26.855631Z",
     "start_time": "2025-07-10T19:03:24.273300Z"
    }
   },
   "cell_type": "code",
   "source": "time_domain2 = extract_signal_stats(V_2F['Sinal-C100'])",
   "id": "bbff8f6b6006364f",
   "outputs": [],
   "execution_count": 289
  },
  {
   "metadata": {},
   "cell_type": "markdown",
   "source": "<h2>Feature Statistics at 80% Load DataFrame",
   "id": "d8a69703da383031"
  },
  {
   "metadata": {
    "ExecuteTime": {
     "end_time": "2025-07-10T13:03:29.602365Z",
     "start_time": "2025-07-10T13:03:29.568805Z"
    }
   },
   "cell_type": "code",
   "source": [
    "time_domain.to_csv('TD_VSF80.csv', index=False)\n",
    "freq_domain.to_csv('FD_VSF80.csv', index=False)"
   ],
   "id": "795515ef950a7113",
   "outputs": [],
   "execution_count": 34
  },
  {
   "metadata": {},
   "cell_type": "markdown",
   "source": "<h2> Step 2: Expand PF State Vector for Feature Tracking",
   "id": "57e8dd95a044f91f"
  },
  {
   "metadata": {
    "ExecuteTime": {
     "end_time": "2025-07-10T19:51:14.166362Z",
     "start_time": "2025-07-10T19:51:14.158824Z"
    }
   },
   "cell_type": "code",
   "source": [
    "def train_particle_model(RMS_SF, N=10000):\n",
    "    ''' Initialization '''\n",
    "    state_dim = 2\n",
    "    ''' Initialize particles and weights '''\n",
    "    particles = np.zeros((N, state_dim))\n",
    "    weights = np.ones(N) / N\n",
    "\n",
    "    # Inicialización en base a señal saludable\n",
    "    rms_min, rms_max = RMS_SF.min(), RMS_SF.max()\n",
    "    particles[:, 0] = np.random.uniform(rms_min, rms_max, N)\n",
    "    particles[:, 1] = np.random.uniform(0, 1, N)\n",
    "\n",
    "    # Estimar dinámica\n",
    "    estimated_rms = np.zeros(len(RMS_SF))\n",
    "#    estimated_health = np.zeros(len(true_rms))\n",
    "\n",
    "\n",
    "    rms_process_noise = 0.0005\n",
    "    health_process_noise = 0.002\n",
    "    measurement_noise = 0.001\n",
    "    alpha = 0.99\n",
    "    for t in range(len(RMS_SF)):\n",
    "        z_t = RMS_SF[t]\n",
    "\n",
    "        # Predicción\n",
    "        mean_prev = np.mean(particles[:, 0])\n",
    "        particles[:, 0] = alpha * particles[:, 0] + (1 - alpha) * mean_prev + np.random.normal(0, rms_process_noise, size=N)\n",
    "        particles[:, 1] += np.random.normal(0, health_process_noise, size=N)\n",
    "        particles[:, 1] = np.clip(particles[:, 1], 0, 1)\n",
    "\n",
    "        # Actualización\n",
    "        particle_rms = particles[:, 0]\n",
    "        weights = np.exp(-0.5 * ((particle_rms - z_t) / measurement_noise) ** 2)\n",
    "        weights += 1e-300\n",
    "        weights /= np.sum(weights)\n",
    "\n",
    "        # Re-muestreo\n",
    "        indices = np.random.choice(N, size=N, p=weights)\n",
    "        particles = particles[indices]\n",
    "        weights.fill(1.0 / N)\n",
    "\n",
    "        # Estimación\n",
    "        x_t = np.mean(particles, axis=0)\n",
    "        estimated_rms[t] = x_t[0]\n",
    "\n",
    "    # Cálculo del error saludable (natural)\n",
    "    error_sano = np.abs(RMS_SF - estimated_rms)\n",
    "    tolerancia = np.mean(error_sano) + 0.8 * np.std(error_sano)\n",
    "    return particles, tolerancia, rms_process_noise, health_process_noise\n"
   ],
   "id": "3d121139e5f3d336",
   "outputs": [],
   "execution_count": 337
  },
  {
   "metadata": {
    "ExecuteTime": {
     "end_time": "2025-07-10T19:51:15.174237Z",
     "start_time": "2025-07-10T19:51:15.168333Z"
    }
   },
   "cell_type": "code",
   "source": [
    "def predict_rms_without_observation(particles_init, length, rms_process_noise, health_process_noise):\n",
    "    N, state_dim = particles_init.shape\n",
    "    particles = particles_init.copy()\n",
    "    estimated_rms = np.zeros(length)\n",
    "\n",
    "    for t in range(length):\n",
    "        # Solo predicción, sin observar nada\n",
    "        particles[:, 0] += np.random.normal(0, rms_process_noise, size=N)\n",
    "        particles[:, 1] += np.random.normal(0, health_process_noise, size=N)\n",
    "        particles[:, 1] = np.clip(particles[:, 1], 0, 1)\n",
    "\n",
    "        indices = np.random.choice(N, size=N)\n",
    "        particles = particles[indices]\n",
    "\n",
    "        x_t = np.mean(particles, axis=0)\n",
    "        estimated_rms[t] = x_t[0]\n",
    "\n",
    "    return estimated_rms\n"
   ],
   "id": "b056049562bf3e26",
   "outputs": [],
   "execution_count": 338
  },
  {
   "metadata": {
    "ExecuteTime": {
     "end_time": "2025-07-10T19:53:28.004674Z",
     "start_time": "2025-07-10T19:53:03.783689Z"
    }
   },
   "cell_type": "code",
   "source": [
    "# Entrenamiento con condiciones saludables\n",
    "particles_model, tolerancia, pn_rms, pn_health = train_particle_model(RMS_SF)\n",
    "\n",
    "# Señal a evaluar (con o sin falla)\n",
    "true_rms = RMS_SF\n",
    "\n",
    "# Predicción sin observar la señal\n",
    "estimated_rms = predict_rms_without_observation(particles_model,\n",
    "                                                len(true_rms),\n",
    "                                                pn_rms,\n",
    "                                                pn_health)\n",
    "\n",
    "# Detección de falla por desviación de la forma\n",
    "error = np.abs(estimated_rms - true_rms)\n",
    "falla_detectada = error > tolerancia\n"
   ],
   "id": "e44d157a158908c1",
   "outputs": [],
   "execution_count": 342
  },
  {
   "metadata": {
    "ExecuteTime": {
     "end_time": "2025-07-10T19:54:00.667143Z",
     "start_time": "2025-07-10T19:53:28.102667Z"
    }
   },
   "cell_type": "code",
   "source": [
    "# entrenás con RMS_SF (saludable)\n",
    "particles_model, _, pn_rms, pn_health = train_particle_model(RMS_SF)\n",
    "\n",
    "# y calculás tolerancia local solo en esa fase\n",
    "def calcular_tolerancia_local_entrenamiento(error_entrenamiento, length, window_size=500, k=3):\n",
    "    tolerancia_local = np.zeros(length)\n",
    "    for i in range(length):\n",
    "        inicio = max(0, i - window_size // 2)\n",
    "        fin = min(len(error_entrenamiento), i + window_size // 2)\n",
    "        ventana = error_entrenamiento[inicio:fin]\n",
    "        media = np.mean(ventana)\n",
    "        std = np.std(ventana)\n",
    "        tolerancia_local[i] = media + k * std\n",
    "    return tolerancia_local\n",
    "\n",
    "# obtené el error saludable durante entrenamiento\n",
    "error_sano = np.abs(RMS_SF - predict_rms_without_observation(particles_model, len(RMS_SF), pn_rms, pn_health))\n",
    "\n",
    "# extendés la tolerancia a toda la evaluación (rellenás si es necesario)\n",
    "tolerancia_local = calcular_tolerancia_local_entrenamiento(error_sano, len(RMS_2F))\n",
    "\n",
    "# luego aplicás el detector\n",
    "estimated_rms = predict_rms_without_observation(particles_model, len(RMS_2F), pn_rms, pn_health)\n",
    "error = np.abs(estimated_rms - RMS_2F)\n",
    "falla_detectada = error > tolerancia_local"
   ],
   "id": "e1b054dc6ef5457",
   "outputs": [],
   "execution_count": 343
  },
  {
   "metadata": {
    "ExecuteTime": {
     "end_time": "2025-07-10T19:54:00.942733Z",
     "start_time": "2025-07-10T19:54:00.787049Z"
    }
   },
   "cell_type": "code",
   "source": [
    "plt.figure(figsize=(14, 6))\n",
    "plt.plot(true_rms, label='RMS real (evaluada)', linewidth=0.8)\n",
    "plt.plot(estimated_rms, label='RMS esperada (modelo saludable)', linestyle='--')\n",
    "\n",
    "# Banda superior e inferior de tolerancia\n",
    "plt.plot(estimated_rms + tolerancia_local, color='orange', linestyle=':', linewidth=1, label='Tolerancia superior')\n",
    "plt.plot(estimated_rms - tolerancia_local, color='orange', linestyle=':', linewidth=1)\n",
    "\n",
    "plt.scatter(np.where(falla_detectada)[0],\n",
    "            true_rms[falla_detectada],\n",
    "            color='red', s=15, label='Falla detectada')\n",
    "\n",
    "plt.xlabel('Time Step')\n",
    "plt.ylabel('RMS')\n",
    "plt.legend()\n",
    "plt.tight_layout()\n",
    "plt.show()\n"
   ],
   "id": "d676dd7b47ac82c2",
   "outputs": [],
   "execution_count": 344
  },
  {
   "metadata": {
    "ExecuteTime": {
     "end_time": "2025-07-10T20:03:05.037304Z",
     "start_time": "2025-07-10T20:02:51.355378Z"
    }
   },
   "cell_type": "code",
   "source": [
    "import numpy as np\n",
    "import matplotlib.pyplot as plt\n",
    "\n",
    "\n",
    "def train_particle_model(RMS_SF, N=10000, alpha=0.99, rms_process_noise=0.005, health_process_noise=0.002,\n",
    "                         measurement_noise=0.001):\n",
    "    state_dim = 2\n",
    "    particles = np.zeros((N, state_dim))\n",
    "    weights = np.ones(N) / N\n",
    "\n",
    "    # Inicialización con rango de la señal\n",
    "    rms_min, rms_max = RMS_SF.min(), RMS_SF.max()\n",
    "    particles[:, 0] = np.random.uniform(rms_min, rms_max, N)\n",
    "    particles[:, 1] = np.random.uniform(0, 1, N)\n",
    "\n",
    "    estimated_rms = np.zeros(len(RMS_SF))\n",
    "\n",
    "    for t in range(len(RMS_SF)):\n",
    "        z_t = RMS_SF[t]\n",
    "        mean_prev = np.mean(particles[:, 0])\n",
    "        particles[:, 0] = alpha * particles[:, 0] + (1 - alpha) * mean_prev + np.random.normal(0, rms_process_noise,\n",
    "                                                                                               size=N)\n",
    "        particles[:, 1] += np.random.normal(0, health_process_noise, size=N)\n",
    "        particles[:, 1] = np.clip(particles[:, 1], 0, 1)\n",
    "\n",
    "        # Actualización\n",
    "        particle_rms = particles[:, 0]\n",
    "        weights = np.exp(-0.5 * ((particle_rms - z_t) / measurement_noise) ** 2)\n",
    "        weights += 1e-300\n",
    "        weights /= np.sum(weights)\n",
    "\n",
    "        indices = np.random.choice(N, size=N, p=weights)\n",
    "        particles = particles[indices]\n",
    "        weights.fill(1.0 / N)\n",
    "\n",
    "        x_t = np.mean(particles, axis=0)\n",
    "        estimated_rms[t] = x_t[0]\n",
    "\n",
    "    error_sano = np.abs(RMS_SF - estimated_rms)\n",
    "    tolerancia = np.mean(error_sano) + 3 * np.std(error_sano)\n",
    "    return particles, tolerancia, rms_process_noise, health_process_noise\n",
    "\n",
    "\n",
    "def predict_rms_without_observation(particles_init, length, rms_process_noise, health_process_noise):\n",
    "    N, _ = particles_init.shape\n",
    "    particles = particles_init.copy()\n",
    "    estimated_rms = np.zeros(length)\n",
    "\n",
    "    for t in range(length):\n",
    "        particles[:, 0] += np.random.normal(0, rms_process_noise, size=N)\n",
    "        particles[:, 1] += np.random.normal(0, health_process_noise, size=N)\n",
    "        particles[:, 1] = np.clip(particles[:, 1], 0, 1)\n",
    "\n",
    "        indices = np.random.choice(N, size=N)\n",
    "        particles = particles[indices]\n",
    "        estimated_rms[t] = np.mean(particles[:, 0])\n",
    "\n",
    "    return estimated_rms\n",
    "\n",
    "\n",
    "def particle_filter_window(RMS_total, window_size=1548, step_size=1548, N=10000,\n",
    "                           alpha=0.99, k_tol=3, rms_noise=0.005, health_noise=0.002, meas_noise=0.001):\n",
    "    total_len = len(RMS_total)\n",
    "    estimated_global = np.zeros(total_len)\n",
    "    tolerancia_global = np.zeros(total_len)\n",
    "    falla_global = np.zeros(total_len, dtype=bool)\n",
    "    conteo_uso = np.zeros(total_len)\n",
    "\n",
    "    for start in range(0, total_len - window_size + 1, step_size):\n",
    "        end = start + window_size\n",
    "        ventana = RMS_total[start:end]\n",
    "\n",
    "        # Entrenar modelo en la ventana\n",
    "        particles, _, pn_rms, pn_health = train_particle_model(\n",
    "            ventana, N=N, alpha=alpha,\n",
    "            rms_process_noise=rms_noise,\n",
    "            health_process_noise=health_noise,\n",
    "            measurement_noise=meas_noise\n",
    "        )\n",
    "\n",
    "        # Predicción sin observar la ventana\n",
    "        estimated_rms = predict_rms_without_observation(particles, window_size, pn_rms, pn_health)\n",
    "\n",
    "        # Error y tolerancia local\n",
    "        error = np.abs(estimated_rms - ventana)\n",
    "        tolerancia_local = np.mean(error) + k_tol * np.std(error)\n",
    "        falla_local = error > tolerancia_local\n",
    "\n",
    "        # Acumulación\n",
    "        estimated_global[start:end] += estimated_rms\n",
    "        tolerancia_global[start:end] += tolerancia_local\n",
    "        falla_global[start:end] |= falla_local\n",
    "        conteo_uso[start:end] += 1\n",
    "\n",
    "    # Promedio en zonas superpuestas\n",
    "    estimated_global /= np.maximum(conteo_uso, 1)\n",
    "    tolerancia_global /= np.maximum(conteo_uso, 1)\n",
    "\n",
    "    return estimated_global, tolerancia_global, falla_global\n",
    "\n",
    "\n",
    "# Señal completa (puede tener fallas)\n",
    "RMS_total = RMS_SF  # o RMS_SF si es saludable\n",
    "\n",
    "# Ejecutar análisis por ventanas de 1548\n",
    "estimated_rms, tolerancia_local, falla_detectada = particle_filter_window(\n",
    "    RMS_total,\n",
    "    window_size=1548,\n",
    "    step_size=1548,  # sin solapamiento\n",
    "    N=5000,  # podés ajustar este número\n",
    "    alpha=0.99,\n",
    "    k_tol=3\n",
    ")\n",
    "\n",
    "plt.figure(figsize=(14, 6))\n",
    "plt.plot(RMS_total, label='RMS real', linewidth=0.8)\n",
    "plt.plot(estimated_rms, label='RMS estimada (modelo saludable)', linestyle='--')\n",
    "plt.plot(estimated_rms + tolerancia_local, color='orange', linestyle=':', linewidth=1, label='Tolerancia superior')\n",
    "plt.plot(estimated_rms - tolerancia_local, color='orange', linestyle=':', linewidth=1)\n",
    "\n",
    "plt.scatter(np.where(falla_detectada)[0],\n",
    "            RMS_total[falla_detectada],\n",
    "            color='red', s=15, label='Falla detectada')\n",
    "\n",
    "plt.xlabel('Time Step')\n",
    "plt.ylabel('RMS')\n",
    "plt.legend()\n",
    "plt.tight_layout()\n",
    "plt.show()\n"
   ],
   "id": "63c14092b1981c0b",
   "outputs": [],
   "execution_count": 351
  },
  {
   "metadata": {
    "ExecuteTime": {
     "end_time": "2025-07-10T19:57:13.681172Z",
     "start_time": "2025-07-10T19:57:13.676766Z"
    }
   },
   "cell_type": "code",
   "source": "RMS_SF.shape",
   "id": "ea9e844613183b47",
   "outputs": [
    {
     "data": {
      "text/plain": [
       "(9288,)"
      ]
     },
     "execution_count": 346,
     "metadata": {},
     "output_type": "execute_result"
    }
   ],
   "execution_count": 346
  },
  {
   "metadata": {},
   "cell_type": "code",
   "outputs": [],
   "execution_count": null,
   "source": "",
   "id": "93053e677c938d1b"
  }
 ],
 "metadata": {
  "kernelspec": {
   "display_name": "Python 3",
   "language": "python",
   "name": "python3"
  },
  "language_info": {
   "codemirror_mode": {
    "name": "ipython",
    "version": 2
   },
   "file_extension": ".py",
   "mimetype": "text/x-python",
   "name": "python",
   "nbconvert_exporter": "python",
   "pygments_lexer": "ipython2",
   "version": "2.7.6"
  }
 },
 "nbformat": 4,
 "nbformat_minor": 5
}
