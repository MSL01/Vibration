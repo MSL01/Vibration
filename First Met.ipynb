{
 "cells": [
  {
   "cell_type": "code",
   "id": "initial_id",
   "metadata": {
    "collapsed": true,
    "ExecuteTime": {
     "end_time": "2025-07-15T18:51:24.467240Z",
     "start_time": "2025-07-15T18:51:24.462629Z"
    }
   },
   "source": [
    "import numpy as np\n",
    "import pandas as pd\n",
    "from scipy.stats import kurtosis, skew, multivariate_normal\n",
    "import matplotlib.pyplot as plt\n",
    "import matplotlib.patches as patches\n",
    "from scipy.ndimage import uniform_filter1d\n",
    "\n",
    "from scipy import stats\n",
    "%matplotlib tk"
   ],
   "outputs": [],
   "execution_count": 23
  },
  {
   "metadata": {
    "ExecuteTime": {
     "end_time": "2025-07-15T18:51:33.994765Z",
     "start_time": "2025-07-15T18:51:24.735788Z"
    }
   },
   "cell_type": "code",
   "source": [
    "V_SF = pd.read_csv('MotorVRB_2025.csv')\n",
    "V_2F = pd.read_csv('MotorV2F_2025.csv')"
   ],
   "id": "6e11dc257007cfbf",
   "outputs": [],
   "execution_count": 24
  },
  {
   "metadata": {
    "ExecuteTime": {
     "end_time": "2025-07-15T18:51:23.053742300Z",
     "start_time": "2025-07-15T18:14:49.550426Z"
    }
   },
   "cell_type": "code",
   "source": [
    "assimetria = V_SF[['Sinal-C0', 'Sinal-C20', 'Sinal-C40', 'Sinal-C60', 'Sinal-C80', 'Sinal-C100']].skew()\n",
    "assimetria2 = V_2F[['Sinal-C0', 'Sinal-C20', 'Sinal-C40', 'Sinal-C60', 'Sinal-C80', 'Sinal-C100']].skew()\n",
    "\n",
    "# Combinamos em um novo DataFrame\n",
    "df_skew = pd.DataFrame({\n",
    "    'Healthy': assimetria,\n",
    "    'Fault': assimetria2,\n",
    "})\n",
    "\n",
    "# Plot agrupado (3 barras por variável)\n",
    "fig = plt.figure(figsize=(12, 6), facecolor='white')\n",
    "ax = fig.add_subplot(111)\n",
    "\n",
    "df_skew.plot(kind='bar', ax=ax, width=0.8)\n",
    "\n",
    "ax.set_facecolor('white')\n",
    "ax.set_ylabel('Assimetria', fontsize=25)  # Atualizado para \"Assimetria\"\n",
    "ax.tick_params(axis='both', labelsize=25)\n",
    "ax.axhline(y=0, color='black', linewidth=1)\n",
    "ax.grid(False)\n",
    "ax.spines['top'].set_visible(False)\n",
    "ax.spines['right'].set_visible(False)\n",
    "ax.spines['left'].set_visible(False)\n",
    "ax.spines['bottom'].set_visible(False)\n",
    "\n",
    "# Criar borda preta ao redor do gráfico\n",
    "xlim = ax.get_xlim()\n",
    "ylim = ax.get_ylim()\n",
    "rect = patches.Rectangle(\n",
    "    (xlim[0], ylim[0]),\n",
    "    xlim[1] - xlim[0],\n",
    "    ylim[1] - ylim[0],\n",
    "    linewidth=2,\n",
    "    edgecolor='black',\n",
    "    facecolor='none',\n",
    "    transform=ax.transData,\n",
    "    zorder=10\n",
    ")\n",
    "ax.add_patch(rect)\n",
    "\n",
    "plt.tight_layout()\n",
    "plt.legend(fontsize=20)\n",
    "plt.show()"
   ],
   "id": "7cad83dfebdb3fd4",
   "outputs": [],
   "execution_count": 3
  },
  {
   "metadata": {
    "ExecuteTime": {
     "end_time": "2025-07-15T18:14:53.880575Z",
     "start_time": "2025-07-15T18:14:50.648912Z"
    }
   },
   "cell_type": "code",
   "source": [
    "def compute_features(df):\n",
    "    return {\n",
    "        'RMS': df.apply(lambda x: np.sqrt(np.mean(x**2))),\n",
    "        'Mean': df.mean(),\n",
    "        'STD': df.std(),\n",
    "        'Variance': df.var(),\n",
    "        'Peak': df.max(),\n",
    "        'ShapeFactor': df.apply(lambda x: np.sqrt(np.mean(x**2)) / np.mean(np.abs(x))),\n",
    "        'ImpulseFactor': df.apply(lambda x: np.max(np.abs(x)) / np.mean(np.abs(x))),\n",
    "    }\n",
    "\n",
    "# Lista de columnas por carga\n",
    "cols = ['Sinal-C0', 'Sinal-C20', 'Sinal-C40', 'Sinal-C60', 'Sinal-C80', 'Sinal-C100']\n",
    "\n",
    "# Extraer características para cada señal\n",
    "features_healthy = compute_features(V_SF[cols])\n",
    "features_fault = compute_features(V_2F[cols])\n",
    "\n",
    "# Para cada característica, graficar\n",
    "for feature_name in features_healthy.keys():\n",
    "    healthy_vals = features_healthy[feature_name]\n",
    "    fault_vals = features_fault[feature_name]\n",
    "\n",
    "    df_feat = pd.DataFrame({\n",
    "        'Healthy': healthy_vals,\n",
    "        'Fault': fault_vals\n",
    "    })\n",
    "\n",
    "    # Plot estilo barras agrupadas\n",
    "    fig = plt.figure(figsize=(12, 6), facecolor='white')\n",
    "    ax = fig.add_subplot(111)\n",
    "\n",
    "    df_feat.plot(kind='bar', ax=ax, width=0.8)\n",
    "\n",
    "    ax.set_facecolor('white')\n",
    "    ax.set_ylabel(feature_name, fontsize=25)\n",
    "    ax.tick_params(axis='both', labelsize=20)\n",
    "    ax.axhline(y=0, color='black', linewidth=1)\n",
    "    ax.grid(False)\n",
    "    ax.spines['top'].set_visible(False)\n",
    "    ax.spines['right'].set_visible(False)\n",
    "    ax.spines['left'].set_visible(False)\n",
    "    ax.spines['bottom'].set_visible(False)\n",
    "\n",
    "    # Borda negra ao redor do gráfico\n",
    "    xlim = ax.get_xlim()\n",
    "    ylim = ax.get_ylim()\n",
    "    rect = patches.Rectangle(\n",
    "        (xlim[0], ylim[0]),\n",
    "        xlim[1] - xlim[0],\n",
    "        ylim[1] - ylim[0],\n",
    "        linewidth=2,\n",
    "        edgecolor='black',\n",
    "        facecolor='none',\n",
    "        transform=ax.transData,\n",
    "        zorder=10\n",
    "    )\n",
    "    ax.add_patch(rect)\n",
    "\n",
    "    plt.tight_layout()\n",
    "    plt.legend(fontsize=20)\n",
    "    plt.title(f'Comparación: {feature_name}', fontsize=22)\n",
    "    plt.show()"
   ],
   "id": "176a0fe607651905",
   "outputs": [],
   "execution_count": 4
  },
  {
   "metadata": {},
   "cell_type": "markdown",
   "source": "<center><h1>Time-Domain Features</center></h1>",
   "id": "391ee5b5a8406a95"
  },
  {
   "metadata": {
    "ExecuteTime": {
     "end_time": "2025-07-15T18:51:36.118805Z",
     "start_time": "2025-07-15T18:51:36.113270Z"
    }
   },
   "cell_type": "code",
   "source": [
    "def calculate_rms(signal):\n",
    "    return np.sqrt(np.mean(signal**2))\n",
    "\n",
    "def extract_signal_stats(signal, window_size=1680):\n",
    "    start = 0\n",
    "    stats_list = []\n",
    "    epsilon = 1e-8  # Small value to avoid division by zero\n",
    "\n",
    "    while start < len(signal):\n",
    "        end = min(start + window_size, len(signal))\n",
    "        cycle = signal[start:end]\n",
    "\n",
    "        mean_val = np.mean(cycle)\n",
    "        rms_val = calculate_rms(cycle)\n",
    "        peak_val = np.max(np.abs(cycle))\n",
    "\n",
    "        stats_list.append({\n",
    "            'Skewness': skew(cycle, bias=False),\n",
    "            'Variance': np.var(cycle),\n",
    "            'StandardDeviation': np.std(cycle),\n",
    "            'RMS': rms_val,\n",
    "            'ImpulseFactor': peak_val / (np.abs(mean_val) + epsilon),\n",
    "        })\n",
    "\n",
    "        start += window_size  # Move to next window\n",
    "\n",
    "    df_stats = pd.DataFrame(stats_list)\n",
    "    return df_stats"
   ],
   "id": "563ea7197dcb3a1",
   "outputs": [],
   "execution_count": 25
  },
  {
   "metadata": {
    "ExecuteTime": {
     "end_time": "2025-07-15T18:51:45.430358Z",
     "start_time": "2025-07-15T18:51:37.244433Z"
    }
   },
   "cell_type": "code",
   "source": [
    "RMS_0 = extract_signal_stats(V_SF['Sinal-C0'])\n",
    "RMS_20 = extract_signal_stats(V_SF['Sinal-C20'])\n",
    "RMS_40 = extract_signal_stats(V_SF['Sinal-C40'])\n",
    "RMS_60 = extract_signal_stats(V_SF['Sinal-C60'])\n",
    "RMS_80 = extract_signal_stats(V_SF['Sinal-C80'])\n",
    "RMS_100 = extract_signal_stats(V_SF['Sinal-C100'])"
   ],
   "id": "c61df936ec40e083",
   "outputs": [],
   "execution_count": 26
  },
  {
   "metadata": {
    "ExecuteTime": {
     "end_time": "2025-07-15T18:51:53.499948Z",
     "start_time": "2025-07-15T18:51:45.499043Z"
    }
   },
   "cell_type": "code",
   "source": [
    "RMS_F0 = extract_signal_stats(V_2F['Sinal-C0'])\n",
    "RMS_F20 = extract_signal_stats(V_2F['Sinal-C20'])\n",
    "RMS_F40 = extract_signal_stats(V_2F['Sinal-C40'])\n",
    "RMS_F60 = extract_signal_stats(V_2F['Sinal-C60'])\n",
    "RMS_F80 = extract_signal_stats(V_2F['Sinal-C80'])\n",
    "RMS_F100 = extract_signal_stats(V_2F['Sinal-C100'])"
   ],
   "id": "cc6bfe8a0216a11f",
   "outputs": [],
   "execution_count": 27
  },
  {
   "metadata": {
    "ExecuteTime": {
     "end_time": "2025-07-15T18:51:53.575845Z",
     "start_time": "2025-07-15T18:51:53.570830Z"
    }
   },
   "cell_type": "code",
   "source": [
    "SF = pd.concat([RMS_0, RMS_20, RMS_40,\n",
    "                         RMS_60, RMS_80, RMS_100], ignore_index=True)"
   ],
   "id": "b7e7d867027a546e",
   "outputs": [],
   "execution_count": 28
  },
  {
   "metadata": {
    "ExecuteTime": {
     "end_time": "2025-07-15T18:51:53.638666Z",
     "start_time": "2025-07-15T18:51:53.634364Z"
    }
   },
   "cell_type": "code",
   "source": [
    "F2 = pd.concat([RMS_F0, RMS_F20, RMS_F40,\n",
    "                         RMS_F60, RMS_F80, RMS_F100], ignore_index=True)"
   ],
   "id": "9f07738bf964382b",
   "outputs": [],
   "execution_count": 29
  },
  {
   "metadata": {
    "ExecuteTime": {
     "end_time": "2025-07-15T16:21:50.976649Z",
     "start_time": "2025-07-15T16:21:50.136303Z"
    }
   },
   "cell_type": "code",
   "source": [
    "def graph(variable):\n",
    "    plt.figure()\n",
    "    plt.plot(RMS_SF[f'{variable}'], linewidth=0.5, label=f'Healthy {variable}')\n",
    "    plt.plot(RMS_2F[f'{variable}'], linewidth=0.5, label=f'Faulty {variable}')\n",
    "    plt.xlabel('Sample')\n",
    "    plt.ylabel(variable)\n",
    "    plt.legend(loc='best')\n",
    "    plt.show()\n",
    "\n",
    "var = ['RMS', 'Skewness', 'Variance', 'StandardDeviation', 'ImpulseFactor']\n",
    "\n",
    "for v in var:\n",
    "    graph(v)"
   ],
   "id": "e524df5c86814857",
   "outputs": [],
   "execution_count": 63
  },
  {
   "metadata": {
    "ExecuteTime": {
     "end_time": "2025-07-10T18:54:32.823577Z",
     "start_time": "2025-07-10T18:54:30.640707Z"
    }
   },
   "cell_type": "code",
   "source": "time_domain = extract_signal_stats(V_SF['Sinal-C100'])",
   "id": "2ccc8a60141e7fb7",
   "outputs": [],
   "execution_count": 262
  },
  {
   "metadata": {
    "ExecuteTime": {
     "end_time": "2025-07-10T19:03:26.855631Z",
     "start_time": "2025-07-10T19:03:24.273300Z"
    }
   },
   "cell_type": "code",
   "source": "time_domain2 = extract_signal_stats(V_2F['Sinal-C100'])",
   "id": "bbff8f6b6006364f",
   "outputs": [],
   "execution_count": 289
  },
  {
   "metadata": {},
   "cell_type": "markdown",
   "source": "<h2>Feature Statistics at 80% Load DataFrame",
   "id": "d8a69703da383031"
  },
  {
   "metadata": {
    "ExecuteTime": {
     "end_time": "2025-07-10T13:03:29.602365Z",
     "start_time": "2025-07-10T13:03:29.568805Z"
    }
   },
   "cell_type": "code",
   "source": "time_domain.to_csv('TD_VSF80.csv', index=False)",
   "id": "795515ef950a7113",
   "outputs": [],
   "execution_count": 34
  },
  {
   "metadata": {},
   "cell_type": "markdown",
   "source": "<h2> Step 2: Expand PF State Vector for Feature Tracking",
   "id": "57e8dd95a044f91f"
  },
  {
   "metadata": {
    "ExecuteTime": {
     "end_time": "2025-07-15T18:51:53.701599Z",
     "start_time": "2025-07-15T18:51:53.696910Z"
    }
   },
   "cell_type": "code",
   "source": [
    "def state_transition(x_prev, stds, eta=0.001):\n",
    "    \"\"\"\n",
    "    :param x_prev: 6 elements array (5 features + Health)\n",
    "    :param stds: Pandas series with standard deviations of each feature\n",
    "    :param eta: Health decay\n",
    "    :return: New state array\n",
    "    \"\"\"\n",
    "    x_prev = np.array(x_prev, dtype=float)\n",
    "    x_next = np.array(x_prev, dtype=float)\n",
    "\n",
    "    for i in range(5):\n",
    "        noise = np.random.normal(loc=0.0, scale=stds.iloc[i])\n",
    "        x_next[i] += noise\n",
    "\n",
    "    x_next[5] = max(x_prev[5] - eta, 0.0)\n",
    "\n",
    "    return x_next"
   ],
   "id": "93053e677c938d1b",
   "outputs": [],
   "execution_count": 30
  },
  {
   "metadata": {
    "ExecuteTime": {
     "end_time": "2025-07-15T18:51:53.763879Z",
     "start_time": "2025-07-15T18:51:53.759347Z"
    }
   },
   "cell_type": "code",
   "source": [
    "def calculate_likelihood(z, x_mean, stds):\n",
    "    z = np.array(z, dtype=float)\n",
    "    x_mean = np.array(x_mean, dtype=float)\n",
    "    var = stds.values ** 2\n",
    "    diff = z - x_mean\n",
    "    exponent = -0.5 * np.sum((diff ** 2) / var)\n",
    "    norm_const = np.sqrt((2 * np.pi) ** len(z) * np.prod(var))\n",
    "    return np.exp(exponent) / norm_const"
   ],
   "id": "abe1e78d43178b5b",
   "outputs": [],
   "execution_count": 31
  },
  {
   "metadata": {
    "ExecuteTime": {
     "end_time": "2025-07-15T18:51:53.841987Z",
     "start_time": "2025-07-15T18:51:53.837027Z"
    }
   },
   "cell_type": "code",
   "source": [
    "def update_weights(particles, weights, observation, stds):\n",
    "    \"\"\"\n",
    "    Actualiza los pesos de las partículas según la observación real.\n",
    "\n",
    "    :param particles: np.ndarray de shape (N, 6) → estados de las partículas\n",
    "    :param weights: np.ndarray de shape (N,) → pesos actuales\n",
    "    :param observation: np.ndarray de shape (5,) → observación real\n",
    "    :param stds: pd.Series con std de cada característica\n",
    "    :return: np.ndarray de pesos normalizados\n",
    "    \"\"\"\n",
    "    N = particles.shape[0]\n",
    "    new_weights = np.zeros(N)\n",
    "\n",
    "    for i in range(N):\n",
    "        x_i = particles[i, :5]  # estado predicho\n",
    "        likelihood = calculate_likelihood(observation, x_i, stds)\n",
    "        new_weights[i] = weights[i] * likelihood\n",
    "\n",
    "    # Evitar división por cero\n",
    "    weight_sum = np.sum(new_weights)\n",
    "    if weight_sum == 0:\n",
    "        new_weights[:] = 1.0 / N\n",
    "    else:\n",
    "        new_weights /= weight_sum\n",
    "\n",
    "    return new_weights"
   ],
   "id": "ba7d9f5a17a2d500",
   "outputs": [],
   "execution_count": 32
  },
  {
   "metadata": {
    "ExecuteTime": {
     "end_time": "2025-07-15T18:53:01.023957Z",
     "start_time": "2025-07-15T18:51:53.923966Z"
    }
   },
   "cell_type": "code",
   "source": [
    "# Configuraciones iniciales\n",
    "feature_names = ['RMS', 'Skewness', 'Variance', 'StandardDeviation', 'ImpulseFactor']\n",
    "stds = SF[feature_names].std()\n",
    "\n",
    "# Estado inicial con Health = 1.0 desde la primera fila\n",
    "x0 = SF.iloc[0][feature_names].tolist() + [1.0]\n",
    "\n",
    "# Inicializar partículas y pesos\n",
    "N = 900\n",
    "particles = np.tile(np.array(x0), (N, 1))  # shape (N, 6)\n",
    "weights = np.ones(N) / N\n",
    "\n",
    "# Lista para guardar estimaciones de Health\n",
    "health_estimates = []\n",
    "\n",
    "# Recorrer todas las observaciones reales de SF\n",
    "for idx, row in SF.iterrows():\n",
    "    # 1. Predecir estado de cada partícula\n",
    "    for i in range(N):\n",
    "        particles[i] = state_transition(particles[i], stds)\n",
    "\n",
    "    # 2. Obtener observación real\n",
    "    z_obs = row[feature_names].values\n",
    "\n",
    "    # 3. Actualizar pesos\n",
    "    weights = update_weights(particles, weights, z_obs, stds)\n",
    "\n",
    "    # 4. Estimar estado promedio (x̂)\n",
    "    x_hat = np.average(particles, axis=0, weights=weights)\n",
    "\n",
    "    # 5. Guardar solo el valor de Health estimado\n",
    "    health_estimates.append(x_hat[5])\n",
    "\n",
    "# Convertir resultados a DataFrame\n",
    "health_df = pd.DataFrame({\n",
    "    'Step': np.arange(len(health_estimates)),\n",
    "    'Estimated_Health': health_estimates\n",
    "})\n",
    "\n",
    "# Mostrar los primeros resultados\n",
    "print(health_df.head())"
   ],
   "id": "b2c3888d1c66df35",
   "outputs": [
    {
     "ename": "KeyboardInterrupt",
     "evalue": "",
     "output_type": "error",
     "traceback": [
      "\u001B[31m---------------------------------------------------------------------------\u001B[39m",
      "\u001B[31mKeyboardInterrupt\u001B[39m                         Traceback (most recent call last)",
      "\u001B[36mCell\u001B[39m\u001B[36m \u001B[39m\u001B[32mIn[33]\u001B[39m\u001B[32m, line 26\u001B[39m\n\u001B[32m     23\u001B[39m z_obs = row[feature_names].values\n\u001B[32m     25\u001B[39m \u001B[38;5;66;03m# 3. Actualizar pesos\u001B[39;00m\n\u001B[32m---> \u001B[39m\u001B[32m26\u001B[39m weights = \u001B[43mupdate_weights\u001B[49m\u001B[43m(\u001B[49m\u001B[43mparticles\u001B[49m\u001B[43m,\u001B[49m\u001B[43m \u001B[49m\u001B[43mweights\u001B[49m\u001B[43m,\u001B[49m\u001B[43m \u001B[49m\u001B[43mz_obs\u001B[49m\u001B[43m,\u001B[49m\u001B[43m \u001B[49m\u001B[43mstds\u001B[49m\u001B[43m)\u001B[49m\n\u001B[32m     28\u001B[39m \u001B[38;5;66;03m# 4. Estimar estado promedio (x̂)\u001B[39;00m\n\u001B[32m     29\u001B[39m x_hat = np.average(particles, axis=\u001B[32m0\u001B[39m, weights=weights)\n",
      "\u001B[36mCell\u001B[39m\u001B[36m \u001B[39m\u001B[32mIn[32]\u001B[39m\u001B[32m, line 16\u001B[39m, in \u001B[36mupdate_weights\u001B[39m\u001B[34m(particles, weights, observation, stds)\u001B[39m\n\u001B[32m     14\u001B[39m \u001B[38;5;28;01mfor\u001B[39;00m i \u001B[38;5;129;01min\u001B[39;00m \u001B[38;5;28mrange\u001B[39m(N):\n\u001B[32m     15\u001B[39m     x_i = particles[i, :\u001B[32m5\u001B[39m]  \u001B[38;5;66;03m# estado predicho\u001B[39;00m\n\u001B[32m---> \u001B[39m\u001B[32m16\u001B[39m     likelihood = \u001B[43mcalculate_likelihood\u001B[49m\u001B[43m(\u001B[49m\u001B[43mobservation\u001B[49m\u001B[43m,\u001B[49m\u001B[43m \u001B[49m\u001B[43mx_i\u001B[49m\u001B[43m,\u001B[49m\u001B[43m \u001B[49m\u001B[43mstds\u001B[49m\u001B[43m)\u001B[49m\n\u001B[32m     17\u001B[39m     new_weights[i] = weights[i] * likelihood\n\u001B[32m     19\u001B[39m \u001B[38;5;66;03m# Evitar división por cero\u001B[39;00m\n",
      "\u001B[36mCell\u001B[39m\u001B[36m \u001B[39m\u001B[32mIn[31]\u001B[39m\u001B[32m, line 7\u001B[39m, in \u001B[36mcalculate_likelihood\u001B[39m\u001B[34m(z, x_mean, stds)\u001B[39m\n\u001B[32m      5\u001B[39m diff = z - x_mean\n\u001B[32m      6\u001B[39m exponent = -\u001B[32m0.5\u001B[39m * np.sum((diff ** \u001B[32m2\u001B[39m) / var)\n\u001B[32m----> \u001B[39m\u001B[32m7\u001B[39m norm_const = np.sqrt((\u001B[32m2\u001B[39m * np.pi) ** \u001B[38;5;28mlen\u001B[39m(z) * \u001B[43mnp\u001B[49m\u001B[43m.\u001B[49m\u001B[43mprod\u001B[49m\u001B[43m(\u001B[49m\u001B[43mvar\u001B[49m\u001B[43m)\u001B[49m)\n\u001B[32m      8\u001B[39m \u001B[38;5;28;01mreturn\u001B[39;00m np.exp(exponent) / norm_const\n",
      "\u001B[36mFile \u001B[39m\u001B[32m~\\AppData\\Local\\Packages\\PythonSoftwareFoundation.Python.3.11_qbz5n2kfra8p0\\LocalCache\\local-packages\\Python311\\site-packages\\numpy\\_core\\fromnumeric.py:3328\u001B[39m, in \u001B[36mprod\u001B[39m\u001B[34m(a, axis, dtype, out, keepdims, initial, where)\u001B[39m\n\u001B[32m   3323\u001B[39m \u001B[38;5;28;01mdef\u001B[39;00m\u001B[38;5;250m \u001B[39m\u001B[34m_prod_dispatcher\u001B[39m(a, axis=\u001B[38;5;28;01mNone\u001B[39;00m, dtype=\u001B[38;5;28;01mNone\u001B[39;00m, out=\u001B[38;5;28;01mNone\u001B[39;00m, keepdims=\u001B[38;5;28;01mNone\u001B[39;00m,\n\u001B[32m   3324\u001B[39m                      initial=\u001B[38;5;28;01mNone\u001B[39;00m, where=\u001B[38;5;28;01mNone\u001B[39;00m):\n\u001B[32m   3325\u001B[39m     \u001B[38;5;28;01mreturn\u001B[39;00m (a, out)\n\u001B[32m-> \u001B[39m\u001B[32m3328\u001B[39m \u001B[38;5;129m@array_function_dispatch\u001B[39m(_prod_dispatcher)\n\u001B[32m   3329\u001B[39m \u001B[38;5;28;01mdef\u001B[39;00m\u001B[38;5;250m \u001B[39m\u001B[34mprod\u001B[39m(a, axis=\u001B[38;5;28;01mNone\u001B[39;00m, dtype=\u001B[38;5;28;01mNone\u001B[39;00m, out=\u001B[38;5;28;01mNone\u001B[39;00m, keepdims=np._NoValue,\n\u001B[32m   3330\u001B[39m          initial=np._NoValue, where=np._NoValue):\n\u001B[32m   3331\u001B[39m \u001B[38;5;250m    \u001B[39m\u001B[33;03m\"\"\"\u001B[39;00m\n\u001B[32m   3332\u001B[39m \u001B[33;03m    Return the product of array elements over a given axis.\u001B[39;00m\n\u001B[32m   3333\u001B[39m \n\u001B[32m   (...)\u001B[39m\u001B[32m   3443\u001B[39m \u001B[33;03m    10\u001B[39;00m\n\u001B[32m   3444\u001B[39m \u001B[33;03m    \"\"\"\u001B[39;00m\n\u001B[32m   3445\u001B[39m     \u001B[38;5;28;01mreturn\u001B[39;00m _wrapreduction(a, np.multiply, \u001B[33m'\u001B[39m\u001B[33mprod\u001B[39m\u001B[33m'\u001B[39m, axis, dtype, out,\n\u001B[32m   3446\u001B[39m                           keepdims=keepdims, initial=initial, where=where)\n",
      "\u001B[31mKeyboardInterrupt\u001B[39m: "
     ]
    }
   ],
   "execution_count": 33
  },
  {
   "metadata": {
    "ExecuteTime": {
     "end_time": "2025-07-15T18:48:41.307074600Z",
     "start_time": "2025-07-15T18:23:02.456519Z"
    }
   },
   "cell_type": "code",
   "source": [
    "plt.plot(health_df['Step'], health_df['Estimated_Health'], label='Health estimado')\n",
    "plt.axhline(0.95, color='r', linestyle='--', label='Umbral de alerta')\n",
    "plt.xlabel('Paso')\n",
    "plt.ylabel('Estimated Health')\n",
    "plt.title('Evolución de Health con datos saludables')\n",
    "plt.legend()\n",
    "plt.grid(True)\n",
    "plt.show()\n"
   ],
   "id": "2bea61eaebb1c901",
   "outputs": [],
   "execution_count": 16
  },
  {
   "metadata": {
    "ExecuteTime": {
     "end_time": "2025-07-15T18:53:04.032272Z",
     "start_time": "2025-07-15T18:53:03.938929Z"
    }
   },
   "cell_type": "code",
   "source": [
    "health_estimates_falla = []\n",
    "\n",
    "for idx, row in SF['Sinal-C0'].iterrows():\n",
    "    for i in range(N):\n",
    "        particles[i] = state_transition(particles[i], stds)\n",
    "\n",
    "    z_obs = row[feature_names].values\n",
    "    weights = update_weights(particles, weights, z_obs, stds)\n",
    "    x_hat = np.average(particles, axis=0, weights=weights)\n",
    "\n",
    "    health_estimates_falla.append(x_hat[5])  # Health estimado\n"
   ],
   "id": "6665c9dd4bd2aea1",
   "outputs": [
    {
     "ename": "KeyError",
     "evalue": "'Sinal-C0'",
     "output_type": "error",
     "traceback": [
      "\u001B[31m---------------------------------------------------------------------------\u001B[39m",
      "\u001B[31mKeyError\u001B[39m                                  Traceback (most recent call last)",
      "\u001B[36mFile \u001B[39m\u001B[32m~\\AppData\\Local\\Packages\\PythonSoftwareFoundation.Python.3.11_qbz5n2kfra8p0\\LocalCache\\local-packages\\Python311\\site-packages\\pandas\\core\\indexes\\base.py:3812\u001B[39m, in \u001B[36mIndex.get_loc\u001B[39m\u001B[34m(self, key)\u001B[39m\n\u001B[32m   3811\u001B[39m \u001B[38;5;28;01mtry\u001B[39;00m:\n\u001B[32m-> \u001B[39m\u001B[32m3812\u001B[39m     \u001B[38;5;28;01mreturn\u001B[39;00m \u001B[38;5;28;43mself\u001B[39;49m\u001B[43m.\u001B[49m\u001B[43m_engine\u001B[49m\u001B[43m.\u001B[49m\u001B[43mget_loc\u001B[49m\u001B[43m(\u001B[49m\u001B[43mcasted_key\u001B[49m\u001B[43m)\u001B[49m\n\u001B[32m   3813\u001B[39m \u001B[38;5;28;01mexcept\u001B[39;00m \u001B[38;5;167;01mKeyError\u001B[39;00m \u001B[38;5;28;01mas\u001B[39;00m err:\n",
      "\u001B[36mFile \u001B[39m\u001B[32mpandas/_libs/index.pyx:167\u001B[39m, in \u001B[36mpandas._libs.index.IndexEngine.get_loc\u001B[39m\u001B[34m()\u001B[39m\n",
      "\u001B[36mFile \u001B[39m\u001B[32mpandas/_libs/index.pyx:196\u001B[39m, in \u001B[36mpandas._libs.index.IndexEngine.get_loc\u001B[39m\u001B[34m()\u001B[39m\n",
      "\u001B[36mFile \u001B[39m\u001B[32mpandas/_libs/hashtable_class_helper.pxi:7088\u001B[39m, in \u001B[36mpandas._libs.hashtable.PyObjectHashTable.get_item\u001B[39m\u001B[34m()\u001B[39m\n",
      "\u001B[36mFile \u001B[39m\u001B[32mpandas/_libs/hashtable_class_helper.pxi:7096\u001B[39m, in \u001B[36mpandas._libs.hashtable.PyObjectHashTable.get_item\u001B[39m\u001B[34m()\u001B[39m\n",
      "\u001B[31mKeyError\u001B[39m: 'Sinal-C0'",
      "\nThe above exception was the direct cause of the following exception:\n",
      "\u001B[31mKeyError\u001B[39m                                  Traceback (most recent call last)",
      "\u001B[36mCell\u001B[39m\u001B[36m \u001B[39m\u001B[32mIn[34]\u001B[39m\u001B[32m, line 3\u001B[39m\n\u001B[32m      1\u001B[39m health_estimates_falla = []\n\u001B[32m----> \u001B[39m\u001B[32m3\u001B[39m \u001B[38;5;28;01mfor\u001B[39;00m idx, row \u001B[38;5;129;01min\u001B[39;00m \u001B[43mSF\u001B[49m\u001B[43m[\u001B[49m\u001B[33;43m'\u001B[39;49m\u001B[33;43mSinal-C0\u001B[39;49m\u001B[33;43m'\u001B[39;49m\u001B[43m]\u001B[49m.iterrows():\n\u001B[32m      4\u001B[39m     \u001B[38;5;28;01mfor\u001B[39;00m i \u001B[38;5;129;01min\u001B[39;00m \u001B[38;5;28mrange\u001B[39m(N):\n\u001B[32m      5\u001B[39m         particles[i] = state_transition(particles[i], stds)\n",
      "\u001B[36mFile \u001B[39m\u001B[32m~\\AppData\\Local\\Packages\\PythonSoftwareFoundation.Python.3.11_qbz5n2kfra8p0\\LocalCache\\local-packages\\Python311\\site-packages\\pandas\\core\\frame.py:4107\u001B[39m, in \u001B[36mDataFrame.__getitem__\u001B[39m\u001B[34m(self, key)\u001B[39m\n\u001B[32m   4105\u001B[39m \u001B[38;5;28;01mif\u001B[39;00m \u001B[38;5;28mself\u001B[39m.columns.nlevels > \u001B[32m1\u001B[39m:\n\u001B[32m   4106\u001B[39m     \u001B[38;5;28;01mreturn\u001B[39;00m \u001B[38;5;28mself\u001B[39m._getitem_multilevel(key)\n\u001B[32m-> \u001B[39m\u001B[32m4107\u001B[39m indexer = \u001B[38;5;28;43mself\u001B[39;49m\u001B[43m.\u001B[49m\u001B[43mcolumns\u001B[49m\u001B[43m.\u001B[49m\u001B[43mget_loc\u001B[49m\u001B[43m(\u001B[49m\u001B[43mkey\u001B[49m\u001B[43m)\u001B[49m\n\u001B[32m   4108\u001B[39m \u001B[38;5;28;01mif\u001B[39;00m is_integer(indexer):\n\u001B[32m   4109\u001B[39m     indexer = [indexer]\n",
      "\u001B[36mFile \u001B[39m\u001B[32m~\\AppData\\Local\\Packages\\PythonSoftwareFoundation.Python.3.11_qbz5n2kfra8p0\\LocalCache\\local-packages\\Python311\\site-packages\\pandas\\core\\indexes\\base.py:3819\u001B[39m, in \u001B[36mIndex.get_loc\u001B[39m\u001B[34m(self, key)\u001B[39m\n\u001B[32m   3814\u001B[39m     \u001B[38;5;28;01mif\u001B[39;00m \u001B[38;5;28misinstance\u001B[39m(casted_key, \u001B[38;5;28mslice\u001B[39m) \u001B[38;5;129;01mor\u001B[39;00m (\n\u001B[32m   3815\u001B[39m         \u001B[38;5;28misinstance\u001B[39m(casted_key, abc.Iterable)\n\u001B[32m   3816\u001B[39m         \u001B[38;5;129;01mand\u001B[39;00m \u001B[38;5;28many\u001B[39m(\u001B[38;5;28misinstance\u001B[39m(x, \u001B[38;5;28mslice\u001B[39m) \u001B[38;5;28;01mfor\u001B[39;00m x \u001B[38;5;129;01min\u001B[39;00m casted_key)\n\u001B[32m   3817\u001B[39m     ):\n\u001B[32m   3818\u001B[39m         \u001B[38;5;28;01mraise\u001B[39;00m InvalidIndexError(key)\n\u001B[32m-> \u001B[39m\u001B[32m3819\u001B[39m     \u001B[38;5;28;01mraise\u001B[39;00m \u001B[38;5;167;01mKeyError\u001B[39;00m(key) \u001B[38;5;28;01mfrom\u001B[39;00m\u001B[38;5;250m \u001B[39m\u001B[34;01merr\u001B[39;00m\n\u001B[32m   3820\u001B[39m \u001B[38;5;28;01mexcept\u001B[39;00m \u001B[38;5;167;01mTypeError\u001B[39;00m:\n\u001B[32m   3821\u001B[39m     \u001B[38;5;66;03m# If we have a listlike key, _check_indexing_error will raise\u001B[39;00m\n\u001B[32m   3822\u001B[39m     \u001B[38;5;66;03m#  InvalidIndexError. Otherwise we fall through and re-raise\u001B[39;00m\n\u001B[32m   3823\u001B[39m     \u001B[38;5;66;03m#  the TypeError.\u001B[39;00m\n\u001B[32m   3824\u001B[39m     \u001B[38;5;28mself\u001B[39m._check_indexing_error(key)\n",
      "\u001B[31mKeyError\u001B[39m: 'Sinal-C0'"
     ]
    }
   ],
   "execution_count": 34
  },
  {
   "metadata": {
    "ExecuteTime": {
     "end_time": "2025-07-15T18:53:04.543944Z",
     "start_time": "2025-07-15T18:53:04.334291Z"
    }
   },
   "cell_type": "code",
   "source": [
    "\n",
    "# Señal original con falla (ejemplo, debes reemplazarla con la tuya)\n",
    "# signal_falla = ...  # array 1D de datos crudos de vibración\n",
    "\n",
    "# Número de muestras por ventana usada para las estadísticas\n",
    "window_size = 1024\n",
    "\n",
    "# Lista de Estimated_Health generada al pasar el filtro sobre DF_falla\n",
    "# health_estimates_falla = [...]\n",
    "\n",
    "# Crear eje de tiempo para cada ventana (posición central de cada ventana)\n",
    "health_times = np.arange(len(health_estimates_falla)) * window_size + window_size // 2\n",
    "\n",
    "# Crear figura\n",
    "plt.figure(figsize=(14, 6))\n",
    "\n",
    "# Señal original\n",
    "plt.plot(SF['Sinal-C0'], label='Señal de vibración', alpha=0.5)\n",
    "\n",
    "# Overlay de Health (reescalado para visualización, opcional)\n",
    "scaled_health = np.interp(health_times, np.arange(len(SF['Sinal-C0'])), np.array(health_estimates_falla))\n",
    "plt.plot(health_times, scaled_health, color='red', label='Estimated Health', linewidth=2)\n",
    "\n",
    "# Umbral visual\n",
    "plt.axhline(y=0.95, color='r', linestyle='--', label='Umbral de alerta')\n",
    "\n",
    "plt.xlabel('Muestra')\n",
    "plt.ylabel('Amplitud / Health')\n",
    "plt.title('Señal original y estimación de Health sobre la vibración')\n",
    "plt.legend()\n",
    "plt.grid(True)\n",
    "plt.tight_layout()\n",
    "plt.show()\n"
   ],
   "id": "58880204d836b353",
   "outputs": [
    {
     "ename": "KeyError",
     "evalue": "'Sinal-C0'",
     "output_type": "error",
     "traceback": [
      "\u001B[31m---------------------------------------------------------------------------\u001B[39m",
      "\u001B[31mKeyError\u001B[39m                                  Traceback (most recent call last)",
      "\u001B[36mFile \u001B[39m\u001B[32m~\\AppData\\Local\\Packages\\PythonSoftwareFoundation.Python.3.11_qbz5n2kfra8p0\\LocalCache\\local-packages\\Python311\\site-packages\\pandas\\core\\indexes\\base.py:3812\u001B[39m, in \u001B[36mIndex.get_loc\u001B[39m\u001B[34m(self, key)\u001B[39m\n\u001B[32m   3811\u001B[39m \u001B[38;5;28;01mtry\u001B[39;00m:\n\u001B[32m-> \u001B[39m\u001B[32m3812\u001B[39m     \u001B[38;5;28;01mreturn\u001B[39;00m \u001B[38;5;28;43mself\u001B[39;49m\u001B[43m.\u001B[49m\u001B[43m_engine\u001B[49m\u001B[43m.\u001B[49m\u001B[43mget_loc\u001B[49m\u001B[43m(\u001B[49m\u001B[43mcasted_key\u001B[49m\u001B[43m)\u001B[49m\n\u001B[32m   3813\u001B[39m \u001B[38;5;28;01mexcept\u001B[39;00m \u001B[38;5;167;01mKeyError\u001B[39;00m \u001B[38;5;28;01mas\u001B[39;00m err:\n",
      "\u001B[36mFile \u001B[39m\u001B[32mpandas/_libs/index.pyx:167\u001B[39m, in \u001B[36mpandas._libs.index.IndexEngine.get_loc\u001B[39m\u001B[34m()\u001B[39m\n",
      "\u001B[36mFile \u001B[39m\u001B[32mpandas/_libs/index.pyx:196\u001B[39m, in \u001B[36mpandas._libs.index.IndexEngine.get_loc\u001B[39m\u001B[34m()\u001B[39m\n",
      "\u001B[36mFile \u001B[39m\u001B[32mpandas/_libs/hashtable_class_helper.pxi:7088\u001B[39m, in \u001B[36mpandas._libs.hashtable.PyObjectHashTable.get_item\u001B[39m\u001B[34m()\u001B[39m\n",
      "\u001B[36mFile \u001B[39m\u001B[32mpandas/_libs/hashtable_class_helper.pxi:7096\u001B[39m, in \u001B[36mpandas._libs.hashtable.PyObjectHashTable.get_item\u001B[39m\u001B[34m()\u001B[39m\n",
      "\u001B[31mKeyError\u001B[39m: 'Sinal-C0'",
      "\nThe above exception was the direct cause of the following exception:\n",
      "\u001B[31mKeyError\u001B[39m                                  Traceback (most recent call last)",
      "\u001B[36mCell\u001B[39m\u001B[36m \u001B[39m\u001B[32mIn[35]\u001B[39m\u001B[32m, line 17\u001B[39m\n\u001B[32m     14\u001B[39m plt.figure(figsize=(\u001B[32m14\u001B[39m, \u001B[32m6\u001B[39m))\n\u001B[32m     16\u001B[39m \u001B[38;5;66;03m# Señal original\u001B[39;00m\n\u001B[32m---> \u001B[39m\u001B[32m17\u001B[39m plt.plot(\u001B[43mSF\u001B[49m\u001B[43m[\u001B[49m\u001B[33;43m'\u001B[39;49m\u001B[33;43mSinal-C0\u001B[39;49m\u001B[33;43m'\u001B[39;49m\u001B[43m]\u001B[49m, label=\u001B[33m'\u001B[39m\u001B[33mSeñal de vibración\u001B[39m\u001B[33m'\u001B[39m, alpha=\u001B[32m0.5\u001B[39m)\n\u001B[32m     19\u001B[39m \u001B[38;5;66;03m# Overlay de Health (reescalado para visualización, opcional)\u001B[39;00m\n\u001B[32m     20\u001B[39m scaled_health = np.interp(health_times, np.arange(\u001B[38;5;28mlen\u001B[39m(SF[\u001B[33m'\u001B[39m\u001B[33mSinal-C0\u001B[39m\u001B[33m'\u001B[39m])), np.array(health_estimates_falla))\n",
      "\u001B[36mFile \u001B[39m\u001B[32m~\\AppData\\Local\\Packages\\PythonSoftwareFoundation.Python.3.11_qbz5n2kfra8p0\\LocalCache\\local-packages\\Python311\\site-packages\\pandas\\core\\frame.py:4107\u001B[39m, in \u001B[36mDataFrame.__getitem__\u001B[39m\u001B[34m(self, key)\u001B[39m\n\u001B[32m   4105\u001B[39m \u001B[38;5;28;01mif\u001B[39;00m \u001B[38;5;28mself\u001B[39m.columns.nlevels > \u001B[32m1\u001B[39m:\n\u001B[32m   4106\u001B[39m     \u001B[38;5;28;01mreturn\u001B[39;00m \u001B[38;5;28mself\u001B[39m._getitem_multilevel(key)\n\u001B[32m-> \u001B[39m\u001B[32m4107\u001B[39m indexer = \u001B[38;5;28;43mself\u001B[39;49m\u001B[43m.\u001B[49m\u001B[43mcolumns\u001B[49m\u001B[43m.\u001B[49m\u001B[43mget_loc\u001B[49m\u001B[43m(\u001B[49m\u001B[43mkey\u001B[49m\u001B[43m)\u001B[49m\n\u001B[32m   4108\u001B[39m \u001B[38;5;28;01mif\u001B[39;00m is_integer(indexer):\n\u001B[32m   4109\u001B[39m     indexer = [indexer]\n",
      "\u001B[36mFile \u001B[39m\u001B[32m~\\AppData\\Local\\Packages\\PythonSoftwareFoundation.Python.3.11_qbz5n2kfra8p0\\LocalCache\\local-packages\\Python311\\site-packages\\pandas\\core\\indexes\\base.py:3819\u001B[39m, in \u001B[36mIndex.get_loc\u001B[39m\u001B[34m(self, key)\u001B[39m\n\u001B[32m   3814\u001B[39m     \u001B[38;5;28;01mif\u001B[39;00m \u001B[38;5;28misinstance\u001B[39m(casted_key, \u001B[38;5;28mslice\u001B[39m) \u001B[38;5;129;01mor\u001B[39;00m (\n\u001B[32m   3815\u001B[39m         \u001B[38;5;28misinstance\u001B[39m(casted_key, abc.Iterable)\n\u001B[32m   3816\u001B[39m         \u001B[38;5;129;01mand\u001B[39;00m \u001B[38;5;28many\u001B[39m(\u001B[38;5;28misinstance\u001B[39m(x, \u001B[38;5;28mslice\u001B[39m) \u001B[38;5;28;01mfor\u001B[39;00m x \u001B[38;5;129;01min\u001B[39;00m casted_key)\n\u001B[32m   3817\u001B[39m     ):\n\u001B[32m   3818\u001B[39m         \u001B[38;5;28;01mraise\u001B[39;00m InvalidIndexError(key)\n\u001B[32m-> \u001B[39m\u001B[32m3819\u001B[39m     \u001B[38;5;28;01mraise\u001B[39;00m \u001B[38;5;167;01mKeyError\u001B[39;00m(key) \u001B[38;5;28;01mfrom\u001B[39;00m\u001B[38;5;250m \u001B[39m\u001B[34;01merr\u001B[39;00m\n\u001B[32m   3820\u001B[39m \u001B[38;5;28;01mexcept\u001B[39;00m \u001B[38;5;167;01mTypeError\u001B[39;00m:\n\u001B[32m   3821\u001B[39m     \u001B[38;5;66;03m# If we have a listlike key, _check_indexing_error will raise\u001B[39;00m\n\u001B[32m   3822\u001B[39m     \u001B[38;5;66;03m#  InvalidIndexError. Otherwise we fall through and re-raise\u001B[39;00m\n\u001B[32m   3823\u001B[39m     \u001B[38;5;66;03m#  the TypeError.\u001B[39;00m\n\u001B[32m   3824\u001B[39m     \u001B[38;5;28mself\u001B[39m._check_indexing_error(key)\n",
      "\u001B[31mKeyError\u001B[39m: 'Sinal-C0'"
     ]
    }
   ],
   "execution_count": 35
  },
  {
   "metadata": {},
   "cell_type": "code",
   "outputs": [],
   "execution_count": null,
   "source": "",
   "id": "a2806d33c32e7fa9"
  }
 ],
 "metadata": {
  "kernelspec": {
   "display_name": "Python 3",
   "language": "python",
   "name": "python3"
  },
  "language_info": {
   "codemirror_mode": {
    "name": "ipython",
    "version": 2
   },
   "file_extension": ".py",
   "mimetype": "text/x-python",
   "name": "python",
   "nbconvert_exporter": "python",
   "pygments_lexer": "ipython2",
   "version": "2.7.6"
  }
 },
 "nbformat": 4,
 "nbformat_minor": 5
}
