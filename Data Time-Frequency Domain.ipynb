{
 "cells": [
  {
   "cell_type": "code",
   "id": "initial_id",
   "metadata": {
    "collapsed": true,
    "ExecuteTime": {
     "end_time": "2025-06-21T23:06:09.331182Z",
     "start_time": "2025-06-21T23:06:04.652142Z"
    }
   },
   "source": [
    "import matplotlib.pyplot as plt\n",
    "import pandas as pd\n",
    "import numpy as np\n",
    "import pywt\n",
    "from matplotlib.widgets import Slider\n",
    "%matplotlib tk"
   ],
   "outputs": [],
   "execution_count": 1
  },
  {
   "metadata": {
    "ExecuteTime": {
     "end_time": "2025-06-21T23:06:09.684903Z",
     "start_time": "2025-06-21T23:06:09.674647Z"
    }
   },
   "cell_type": "code",
   "source": [
    "def continuous_wavelet_transform(signal, Fs):\n",
    "    \"\"\"\n",
    "    Calcula y permite visualizar mediante un slider la Transformada Wavelet Continua (CWT) del señal de entrada.\n",
    "\n",
    "    Parámetros:\n",
    "    - signal: array 1D, el señal ya normalizado.\n",
    "    - Fs: float, frecuencia de muestreo (Hz).\n",
    "    \"\"\"\n",
    "    fs = Fs / 2\n",
    "    scales = np.arange(1, 140)\n",
    "\n",
    "    # CWT\n",
    "    coeffs, freqs = pywt.cwt(signal, scales, 'cmor1.5-1.0', 1 / fs)\n",
    "    t = np.arange(len(signal)) / Fs\n",
    "\n",
    "    # Parámetros de la ventana temporal\n",
    "    ventana_s = 0.2\n",
    "    t_inicio = 0.0\n",
    "    t_final = t_inicio + ventana_s\n",
    "\n",
    "    # Crear figura\n",
    "    fig, ax = plt.subplots(figsize=(12, 6))\n",
    "    plt.subplots_adjust(bottom=0.20)\n",
    "\n",
    "    # Inicializar primer plot\n",
    "    extent = [0, len(signal) / Fs, freqs[-1], freqs[0]]\n",
    "    im = ax.imshow(np.abs(coeffs), aspect='auto', extent=extent, cmap='jet', vmin=0, vmax=1.35)\n",
    "    ax.set_xlabel('Time (s)', fontsize=20)\n",
    "    ax.set_ylabel('Frequency (Hz)', fontsize=20)\n",
    "    ax.set_ylim(freqs[-1], freqs[0])\n",
    "    ax.set_xlim(t_inicio, t_final)\n",
    "    cbar = fig.colorbar(im, ax=ax)\n",
    "    cbar.set_label('Magnitude', fontsize=15)\n",
    "\n",
    "    # Crear Slider\n",
    "    ax_slider = plt.axes([0.15, 0.05, 0.7, 0.03])\n",
    "    slider = Slider(\n",
    "        ax_slider, 'Inicio (s)', t.min(), t.max() - ventana_s,\n",
    "        valinit=t_inicio, valstep=0.01\n",
    "    )\n",
    "\n",
    "    # Función de actualización\n",
    "    def update(val):\n",
    "        t_inicio = slider.val\n",
    "        t_final = t_inicio + ventana_s\n",
    "        ax.set_xlim(t_inicio, t_final)\n",
    "        fig.canvas.draw_idle()\n",
    "\n",
    "    # Conectar slider\n",
    "    slider.on_changed(update)\n",
    "\n",
    "    plt.show()"
   ],
   "id": "e95c9b1a02347175",
   "outputs": [],
   "execution_count": 2
  },
  {
   "metadata": {
    "ExecuteTime": {
     "end_time": "2025-06-21T23:06:30.521305Z",
     "start_time": "2025-06-21T23:06:10.167063Z"
    }
   },
   "cell_type": "code",
   "source": [
    "V_SF = pd.read_csv('MotorVRB_2025.csv')\n",
    "V_2F = pd.read_csv('MotorV2F_2025.csv')\n",
    "\n",
    "M_SF = pd.read_csv('MotorRB_2025.csv')\n",
    "M_2F = pd.read_csv('MotorRR2F_2025.csv')"
   ],
   "id": "1e46b101ba663d9e",
   "outputs": [],
   "execution_count": 3
  },
  {
   "metadata": {
    "ExecuteTime": {
     "end_time": "2025-06-21T23:09:28.144505Z",
     "start_time": "2025-06-21T23:09:19.176321Z"
    }
   },
   "cell_type": "code",
   "source": "continuous_wavelet_transform(V_2F['Sinal-C0'][0:200000], 50000)",
   "id": "73ac3f22c6cf6d64",
   "outputs": [],
   "execution_count": 6
  },
  {
   "metadata": {
    "ExecuteTime": {
     "end_time": "2025-06-22T02:37:02.749228Z",
     "start_time": "2025-06-22T02:37:02.506928Z"
    }
   },
   "cell_type": "code",
   "source": [
    "plt.figure(figsize=(12, 6))\n",
    "#plt.plot(V_2F['Sinal-C0'], label='Falha', linewidth=0.5)\n",
    "plt.plot(V_SF['Sinal-C0'], label='Sem Falha', linewidth=0.5)\n",
    "plt.legend()\n",
    "plt.show()"
   ],
   "id": "ca9447ec6c75705f",
   "outputs": [],
   "execution_count": 33
  },
  {
   "metadata": {},
   "cell_type": "code",
   "outputs": [],
   "execution_count": null,
   "source": [
    "plt.figure(figsize=(12, 6))\n",
    "plt.plot(V_2F['Sinal-C40'][0:200000], linewidth=0.5)\n",
    "plt.plot(V_2F['Sinal-C60'][0:200000], linewidth=0.5)"
   ],
   "id": "9306ba7533d56e74"
  },
  {
   "metadata": {
    "ExecuteTime": {
     "end_time": "2025-06-20T22:14:59.217862Z",
     "start_time": "2025-06-20T22:14:59.087978Z"
    }
   },
   "cell_type": "code",
   "source": [
    "plt.figure(figsize=(12, 6))\n",
    "plt.plot(V_2F['Sinal-C80'][0:200000], linewidth=0.5)\n",
    "plt.plot(V_2F['Sinal-C100'][0:200000], linewidth=0.5)"
   ],
   "id": "8014fcf47de40e26",
   "outputs": [
    {
     "data": {
      "text/plain": [
       "[<matplotlib.lines.Line2D at 0x219397b43b0>]"
      ]
     },
     "execution_count": 8,
     "metadata": {},
     "output_type": "execute_result"
    }
   ],
   "execution_count": 8
  },
  {
   "metadata": {},
   "cell_type": "code",
   "outputs": [],
   "execution_count": null,
   "source": "",
   "id": "ae5079468c35311"
  }
 ],
 "metadata": {
  "kernelspec": {
   "display_name": "Python 3",
   "language": "python",
   "name": "python3"
  },
  "language_info": {
   "codemirror_mode": {
    "name": "ipython",
    "version": 2
   },
   "file_extension": ".py",
   "mimetype": "text/x-python",
   "name": "python",
   "nbconvert_exporter": "python",
   "pygments_lexer": "ipython2",
   "version": "2.7.6"
  }
 },
 "nbformat": 4,
 "nbformat_minor": 5
}
