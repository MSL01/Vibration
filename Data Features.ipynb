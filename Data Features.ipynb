{
 "cells": [
  {
   "cell_type": "code",
   "id": "initial_id",
   "metadata": {
    "collapsed": true,
    "ExecuteTime": {
     "end_time": "2025-06-22T02:31:01.149561Z",
     "start_time": "2025-06-22T02:30:59.987947Z"
    }
   },
   "source": [
    "import numpy as np\n",
    "import pandas as pd\n",
    "import matplotlib.pyplot as plt\n",
    "from scipy.fft import fftfreq, fft\n",
    "from scipy.signal.windows import blackman\n",
    "%matplotlib tk"
   ],
   "outputs": [],
   "execution_count": 1
  },
  {
   "metadata": {
    "ExecuteTime": {
     "end_time": "2025-06-22T02:31:20.559814Z",
     "start_time": "2025-06-22T02:31:01.341890Z"
    }
   },
   "cell_type": "code",
   "source": [
    "V_SF = pd.read_csv('MotorVRB_2025.csv')\n",
    "V_2F = pd.read_csv('MotorV2F_2025.csv')\n",
    "\n",
    "M_SF = pd.read_csv('MotorRB_2025.csv')\n",
    "M_2F = pd.read_csv('MotorRR2F_2025.csv')"
   ],
   "id": "846e44e347d277c5",
   "outputs": [],
   "execution_count": 2
  },
  {
   "metadata": {
    "ExecuteTime": {
     "end_time": "2025-06-20T22:34:04.891163Z",
     "start_time": "2025-06-20T22:34:03.033067Z"
    }
   },
   "cell_type": "code",
   "source": [
    "skew_SF, kurt_SF = V_SF.skew(), V_SF.kurt()\n",
    "skew_2F, kurt_2F = V_2F.skew(), V_2F.kurt()"
   ],
   "id": "5b461827330e937e",
   "outputs": [],
   "execution_count": 5
  },
  {
   "metadata": {
    "ExecuteTime": {
     "end_time": "2025-06-20T22:34:22.406347Z",
     "start_time": "2025-06-20T22:34:22.401366Z"
    }
   },
   "cell_type": "code",
   "source": "kurt_SF",
   "id": "112444671cde34ae",
   "outputs": [
    {
     "data": {
      "text/plain": [
       "Sinal-C0             0.260538\n",
       "Sinal-C0-Filter      0.440064\n",
       "Sinal-C20            0.068755\n",
       "Sinal-C20-Filter     0.053468\n",
       "Sinal-C40            0.514144\n",
       "Sinal-C40-Filter     0.559837\n",
       "Sinal-C60            0.845667\n",
       "Sinal-C60-Filter     0.870544\n",
       "Sinal-C80            1.019537\n",
       "Sinal-C80-Filter     1.108986\n",
       "Sinal-C100           0.927918\n",
       "Sinal-C100-Filter    1.042745\n",
       "dtype: float64"
      ]
     },
     "execution_count": 7,
     "metadata": {},
     "output_type": "execute_result"
    }
   ],
   "execution_count": 7
  },
  {
   "metadata": {
    "ExecuteTime": {
     "end_time": "2025-06-20T22:34:08.381229Z",
     "start_time": "2025-06-20T22:34:08.373695Z"
    }
   },
   "cell_type": "code",
   "source": "skew_SF",
   "id": "d3456623449e14a5",
   "outputs": [
    {
     "data": {
      "text/plain": [
       "Sinal-C0            -0.441823\n",
       "Sinal-C0-Filter      0.019113\n",
       "Sinal-C20           -0.171415\n",
       "Sinal-C20-Filter    -0.067517\n",
       "Sinal-C40           -0.423383\n",
       "Sinal-C40-Filter    -0.107421\n",
       "Sinal-C60           -0.544471\n",
       "Sinal-C60-Filter    -0.152315\n",
       "Sinal-C80           -0.569591\n",
       "Sinal-C80-Filter    -0.183189\n",
       "Sinal-C100          -0.558188\n",
       "Sinal-C100-Filter   -0.192523\n",
       "dtype: float64"
      ]
     },
     "execution_count": 6,
     "metadata": {},
     "output_type": "execute_result"
    }
   ],
   "execution_count": 6
  },
  {
   "metadata": {
    "ExecuteTime": {
     "end_time": "2025-06-20T22:34:34.932939Z",
     "start_time": "2025-06-20T22:34:34.928646Z"
    }
   },
   "cell_type": "code",
   "source": "kurt_2F",
   "id": "7d86a9d8e6e1aa64",
   "outputs": [
    {
     "data": {
      "text/plain": [
       "Sinal-C0            -0.143895\n",
       "Sinal-C0-Filter     -0.359090\n",
       "Sinal-C20            0.162123\n",
       "Sinal-C20-Filter     0.380827\n",
       "Sinal-C40            0.102423\n",
       "Sinal-C40-Filter     0.312136\n",
       "Sinal-C60            2.555527\n",
       "Sinal-C60-Filter     1.902245\n",
       "Sinal-C80            1.321530\n",
       "Sinal-C80-Filter     0.860659\n",
       "Sinal-C100           0.841091\n",
       "Sinal-C100-Filter    0.767024\n",
       "dtype: float64"
      ]
     },
     "execution_count": 8,
     "metadata": {},
     "output_type": "execute_result"
    }
   ],
   "execution_count": 8
  },
  {
   "metadata": {
    "ExecuteTime": {
     "end_time": "2025-06-20T22:34:40.835223Z",
     "start_time": "2025-06-20T22:34:40.830231Z"
    }
   },
   "cell_type": "code",
   "source": "skew_2F",
   "id": "e8edd5260b8a0d7a",
   "outputs": [
    {
     "data": {
      "text/plain": [
       "Sinal-C0            -0.493394\n",
       "Sinal-C0-Filter     -0.236020\n",
       "Sinal-C20           -0.605719\n",
       "Sinal-C20-Filter    -0.373364\n",
       "Sinal-C40           -0.622033\n",
       "Sinal-C40-Filter    -0.410696\n",
       "Sinal-C60           -1.421237\n",
       "Sinal-C60-Filter    -0.779184\n",
       "Sinal-C80           -1.092486\n",
       "Sinal-C80-Filter    -0.580080\n",
       "Sinal-C100          -0.910523\n",
       "Sinal-C100-Filter   -0.455603\n",
       "dtype: float64"
      ]
     },
     "execution_count": 9,
     "metadata": {},
     "output_type": "execute_result"
    }
   ],
   "execution_count": 9
  },
  {
   "metadata": {
    "ExecuteTime": {
     "end_time": "2025-06-20T02:37:56.262558Z",
     "start_time": "2025-06-20T02:37:55.965312Z"
    }
   },
   "cell_type": "code",
   "source": [
    "fig, (ax1, ax2) = plt.subplots(2,1, figsize = (12,8))\n",
    "ax1.plot(V_SF['Sinal-C80-Filter'], linewidth=0.5)\n",
    "\n",
    "ax2.plot(M_2F['Sinal-C80-Filter'], linewidth=0.5)"
   ],
   "id": "de7cd67fe2bf465d",
   "outputs": [
    {
     "data": {
      "text/plain": [
       "[<matplotlib.lines.Line2D at 0x20dd377ce30>]"
      ]
     },
     "execution_count": 4,
     "metadata": {},
     "output_type": "execute_result"
    }
   ],
   "execution_count": 4
  },
  {
   "metadata": {
    "ExecuteTime": {
     "end_time": "2025-06-20T02:37:57.395607Z",
     "start_time": "2025-06-20T02:37:57.393060Z"
    }
   },
   "cell_type": "code",
   "source": [
    "def fft_np(signal, sample_rate = 50000):\n",
    "    fft_np = np.fft.fft(signal)\n",
    "    fft_freq = np.fft.fftfreq(signal.shape[0], 1/sample_rate)\n",
    "    return fft_np, fft_freq"
   ],
   "id": "edce456971f6411f",
   "outputs": [],
   "execution_count": 5
  },
  {
   "metadata": {
    "ExecuteTime": {
     "end_time": "2025-06-20T02:37:57.704582Z",
     "start_time": "2025-06-20T02:37:57.487275Z"
    }
   },
   "cell_type": "code",
   "source": [
    "signal = M_2F['Sinal-C0'].to_numpy()\n",
    "N = len(signal)\n",
    "fft_np, fft_freq = fft_np(signal)\n",
    "plt.figure(figsize = (12,8))\n",
    "plt.plot(fft_freq[:N // 2], np.abs(fft_np[:N // 2]), linewidth = 0.5)"
   ],
   "id": "c4605929de9c08e3",
   "outputs": [
    {
     "data": {
      "text/plain": [
       "[<matplotlib.lines.Line2D at 0x20dd384c260>]"
      ]
     },
     "execution_count": 7,
     "metadata": {},
     "output_type": "execute_result"
    }
   ],
   "execution_count": 7
  },
  {
   "metadata": {
    "ExecuteTime": {
     "end_time": "2025-06-20T02:47:07.144164Z",
     "start_time": "2025-06-20T02:47:07.140603Z"
    }
   },
   "cell_type": "code",
   "source": [
    "def fft_scipy(signal, fs=50000):\n",
    "    N = len(signal)\n",
    "    T = 1.0 / fs\n",
    "\n",
    "    # Aplicar ventana Blackman\n",
    "    w = np.blackman(N)\n",
    "    signal_windowed = signal * w\n",
    "\n",
    "    # FFT\n",
    "    fft_sc = fft(signal_windowed)\n",
    "    fft_freq = fftfreq(N, T)[:N//2]\n",
    "\n",
    "    return fft_sc, fft_freq, w"
   ],
   "id": "3c9416ab51ff374a",
   "outputs": [],
   "execution_count": 14
  },
  {
   "metadata": {
    "ExecuteTime": {
     "end_time": "2025-06-20T02:52:32.935670Z",
     "start_time": "2025-06-20T02:52:32.281314Z"
    }
   },
   "cell_type": "code",
   "source": [
    "signal = M_SF['Sinal-C0'].to_numpy()\n",
    "N = len(signal)\n",
    "fft_sc, fft_freq, window = fft_scipy(signal)\n",
    "\n",
    "# FFT de la ventana\n",
    "fft_window = fft(window)\n",
    "window_amplitude = np.abs(fft_window[:N//2])\n",
    "window_amplitude /= np.max(window_amplitude)  # Normalizar a 1\n",
    "\n",
    "# FFT de la señal normalizada\n",
    "scaling_factor = np.sum(window) / N\n",
    "signal_amplitude = (1.0 / N) * np.abs(fft_sc[:N//2]) / scaling_factor\n",
    "\n",
    "# Evitar ceros para log\n",
    "signal_amplitude[signal_amplitude <= 1e-20] = 1e-20\n",
    "\n",
    "# Graficar\n",
    "plt.figure(figsize=(14, 8))\n",
    "plt.semilogy(fft_freq[1:], signal_amplitude[1:], linewidth=0.7)\n",
    "plt.xlabel('Frecuencia (Hz)')\n",
    "plt.ylabel('Amplitud')\n",
    "plt.tight_layout()\n",
    "plt.show()"
   ],
   "id": "ac4b46e014d8037e",
   "outputs": [],
   "execution_count": 23
  },
  {
   "metadata": {},
   "cell_type": "code",
   "outputs": [],
   "execution_count": null,
   "source": "",
   "id": "55c942cb839f35b0"
  }
 ],
 "metadata": {
  "kernelspec": {
   "display_name": "Python 3",
   "language": "python",
   "name": "python3"
  },
  "language_info": {
   "codemirror_mode": {
    "name": "ipython",
    "version": 2
   },
   "file_extension": ".py",
   "mimetype": "text/x-python",
   "name": "python",
   "nbconvert_exporter": "python",
   "pygments_lexer": "ipython2",
   "version": "2.7.6"
  }
 },
 "nbformat": 4,
 "nbformat_minor": 5
}
